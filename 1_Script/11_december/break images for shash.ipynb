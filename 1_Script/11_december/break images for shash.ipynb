{
 "cells": [
  {
   "cell_type": "code",
   "execution_count": 2,
   "metadata": {},
   "outputs": [],
   "source": [
    "import cv2"
   ]
  },
  {
   "cell_type": "code",
   "execution_count": 65,
   "metadata": {},
   "outputs": [],
   "source": [
    "z = \"C14F26P490\""
   ]
  },
  {
   "cell_type": "code",
   "execution_count": 66,
   "metadata": {},
   "outputs": [],
   "source": [
    "videoFile = (f\"E:\\\\Condensation_Exp_2021_02_25\\\\adjusted videos\\\\{z}.avi\")"
   ]
  },
  {
   "cell_type": "code",
   "execution_count": 67,
   "metadata": {},
   "outputs": [
    {
     "name": "stdout",
     "output_type": "stream",
     "text": [
      "0.0\n",
      "1000.0\n",
      "2000.0\n",
      "Done!\n"
     ]
    }
   ],
   "source": [
    "cap = cv2.VideoCapture(videoFile)\n",
    "frameRate = cap.get(5) #frame rate\n",
    "#print(\"the frame rate is\", frameRate)\n",
    "\n",
    "while(cap.isOpened()):\n",
    "    frameId = cap.get(1) #current frame number\n",
    "    ret, frame = cap.read()\n",
    "    #print(frameId)\n",
    "    if (ret != True):\n",
    "        break\n",
    "    if (frameId == 0):\n",
    "        cv2.imwrite(f\"{z}_image1.jpeg\", frame)\n",
    "        print(frameId)\n",
    "    if (frameId  == 1000):\n",
    "        cv2.imwrite(f\"{z}_image2.jpeg\", frame)\n",
    "        print(frameId)\n",
    "    if (frameId == 2000):\n",
    "        cv2.imwrite(f\"{z}_image3.jpeg\", frame)\n",
    "        print(frameId)\n",
    "        break\n",
    "cap.release()\n",
    "print(\"Done!\")"
   ]
  },
  {
   "cell_type": "code",
   "execution_count": null,
   "metadata": {},
   "outputs": [],
   "source": []
  }
 ],
 "metadata": {
  "kernelspec": {
   "display_name": "Python 3",
   "language": "python",
   "name": "python3"
  },
  "language_info": {
   "codemirror_mode": {
    "name": "ipython",
    "version": 3
   },
   "file_extension": ".py",
   "mimetype": "text/x-python",
   "name": "python",
   "nbconvert_exporter": "python",
   "pygments_lexer": "ipython3",
   "version": "3.7.3"
  }
 },
 "nbformat": 4,
 "nbformat_minor": 2
}
