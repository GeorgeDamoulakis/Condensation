{
 "cells": [
  {
   "cell_type": "code",
   "execution_count": 14,
   "metadata": {},
   "outputs": [],
   "source": [
    "import cv2 as cv\n",
    "import os\n",
    "from numpy import genfromtxt\n",
    "import time\n",
    "import numpy as np\n",
    "import pandas as pd\n",
    "import matplotlib.pyplot as plt\n",
    "%matplotlib inline"
   ]
  },
  {
   "cell_type": "code",
   "execution_count": 2,
   "metadata": {},
   "outputs": [],
   "source": [
    "def CC(img):\n",
    "    nlabels, labels, stats, centroids = cv.connectedComponentsWithStats(img)\n",
    "    label_hue = np.uint8(179 * labels / np.max(labels))\n",
    "    blank_ch = 255 * np.ones_like(label_hue)\n",
    "    labeled_img = cv.merge([label_hue, blank_ch, blank_ch])\n",
    "    labeled_img = cv.cvtColor(labeled_img, cv.COLOR_HSV2BGR)\n",
    "    labeled_img[label_hue == 0] = 0\n",
    "    return labeled_img, nlabels, labels, stats, centroids"
   ]
  },
  {
   "cell_type": "code",
   "execution_count": 3,
   "metadata": {},
   "outputs": [],
   "source": [
    "def avg_droplets_diam(ARRAY):\n",
    "    sum_all_drops = 0\n",
    "    for i in range(ARRAY.shape[0]):\n",
    "        average_1_drop = (ARRAY[i][2]+ARRAY[i][3])/2\n",
    "        sum_all_drops = sum_all_drops + average_1_drop\n",
    "    average_all_drops = sum_all_drops / ARRAY.shape[0]\n",
    "    return average_all_drops    "
   ]
  },
  {
   "cell_type": "code",
   "execution_count": 10,
   "metadata": {},
   "outputs": [],
   "source": [
    "def getListOfFiles(dirName):\n",
    "    # create a list of file and sub directories\n",
    "    # names in the given directory\n",
    "    listOfFile = os.listdir(dirName)\n",
    "    allFiles = list()\n",
    "    # Iterate over all the entries\n",
    "    for entry in listOfFile:\n",
    "        # Create full path\n",
    "        fullPath = os.path.join(dirName, entry)\n",
    "        # If entry is a directory then get the list of files in this directory\n",
    "        if os.path.isdir(fullPath):\n",
    "            allFiles = allFiles + getListOfFiles(fullPath)\n",
    "        else:\n",
    "            allFiles.append(fullPath)\n",
    "\n",
    "    return allFiles"
   ]
  },
  {
   "cell_type": "code",
   "execution_count": 12,
   "metadata": {},
   "outputs": [],
   "source": [
    "Z = \"C9F24P452_image3\""
   ]
  },
  {
   "cell_type": "code",
   "execution_count": 11,
   "metadata": {},
   "outputs": [],
   "source": [
    "dirName = 'C:\\\\Users\\\\Dino\\\\Desktop\\\\jupyter scripts for second try\\\\images for human'"
   ]
  },
  {
   "cell_type": "code",
   "execution_count": 18,
   "metadata": {},
   "outputs": [],
   "source": [
    "def procedure(ZZ):\n",
    "    img = cv.imread(ZZ)\n",
    "    th, img_th = cv.threshold(img, 60, 255, cv.THRESH_BINARY);\n",
    "    kernel = np.ones((3, 3), np.uint8)\n",
    "    erosion = cv.erode(img_th , kernel, iterations=2)\n",
    "    dilation = cv.dilate(erosion, kernel, iterations=1)\n",
    "    dilation = cv.cvtColor(dilation, cv.COLOR_BGR2GRAY)\n",
    "    components, nlabels, labels, stats, centroids = CC(dilation)\n",
    "    final_stats = []\n",
    "    final_centroids = []\n",
    "    f_stat_counter = 0\n",
    "    for i in range(stats.shape[0]):\n",
    "        if (stats[i][2] > 150) or (stats[i][2] < 10) or (stats[i][3] > 150) or (stats[i][3] < 10) or (stats[i][2]-stats[i][3]>10) or (stats[i][3]-stats[i][2]>10):\n",
    "            pass\n",
    "        else:\n",
    "            final_stats.append(stats[i])\n",
    "            final_centroids.append(centroids[i])\n",
    "    FStats = np.array(final_stats, dtype=object)\n",
    "    FCentr = np.array(final_centroids, dtype= int)\n",
    "    #print(\"Number of droplets on this frame is:             \", FStats.shape[0])\n",
    "    #print(\"Average Diameter of droplets on this frame is:   \", round(avg_droplets_diam(FStats), 2))\n",
    "    return FStats.shape[0], round(avg_droplets_diam(FStats), 2)\n",
    "\n"
   ]
  },
  {
   "cell_type": "code",
   "execution_count": 9,
   "metadata": {},
   "outputs": [
    {
     "name": "stdout",
     "output_type": "stream",
     "text": [
      "(122, 19.62)\n"
     ]
    }
   ],
   "source": [
    "print(procedure(Z))"
   ]
  },
  {
   "cell_type": "code",
   "execution_count": 21,
   "metadata": {},
   "outputs": [
    {
     "name": "stdout",
     "output_type": "stream",
     "text": [
      "C:\\Users\\Dino\\Desktop\\jupyter scripts for second try\\images for human\\C10F20P436_image1.jpeg (101, 15.83)\n",
      "C:\\Users\\Dino\\Desktop\\jupyter scripts for second try\\images for human\\C10F20P436_image2.jpeg (106, 16.28)\n",
      "C:\\Users\\Dino\\Desktop\\jupyter scripts for second try\\images for human\\C10F20P436_image3.jpeg (85, 15.59)\n",
      "C:\\Users\\Dino\\Desktop\\jupyter scripts for second try\\images for human\\C10F24P442_image1.jpeg (22, 13.32)\n",
      "C:\\Users\\Dino\\Desktop\\jupyter scripts for second try\\images for human\\C10F24P442_image2.jpeg (22, 14.16)\n",
      "C:\\Users\\Dino\\Desktop\\jupyter scripts for second try\\images for human\\C10F24P442_image3.jpeg (22, 13.8)\n",
      "C:\\Users\\Dino\\Desktop\\jupyter scripts for second try\\images for human\\C10F26P508_image1.jpeg (162, 17.93)\n",
      "C:\\Users\\Dino\\Desktop\\jupyter scripts for second try\\images for human\\C10F26P508_image2.jpeg (154, 18.28)\n",
      "C:\\Users\\Dino\\Desktop\\jupyter scripts for second try\\images for human\\C10F26P508_image3.jpeg (156, 17.56)\n",
      "C:\\Users\\Dino\\Desktop\\jupyter scripts for second try\\images for human\\C11F20P482_image1.jpeg (18, 19.22)\n",
      "C:\\Users\\Dino\\Desktop\\jupyter scripts for second try\\images for human\\C11F20P482_image2.jpeg (24, 16.94)\n",
      "C:\\Users\\Dino\\Desktop\\jupyter scripts for second try\\images for human\\C11F20P482_image3.jpeg (19, 18.84)\n",
      "C:\\Users\\Dino\\Desktop\\jupyter scripts for second try\\images for human\\C11F24P500_image1.jpeg (85, 20.44)\n",
      "C:\\Users\\Dino\\Desktop\\jupyter scripts for second try\\images for human\\C11F24P500_image2.jpeg (95, 21.37)\n",
      "C:\\Users\\Dino\\Desktop\\jupyter scripts for second try\\images for human\\C11F24P500_image3.jpeg (65, 22.21)\n",
      "C:\\Users\\Dino\\Desktop\\jupyter scripts for second try\\images for human\\C11F26P550_image1.jpeg (115, 18.66)\n",
      "C:\\Users\\Dino\\Desktop\\jupyter scripts for second try\\images for human\\C11F26P550_image2.jpeg (119, 19.34)\n",
      "C:\\Users\\Dino\\Desktop\\jupyter scripts for second try\\images for human\\C11F26P550_image3.jpeg (116, 19.46)\n",
      "C:\\Users\\Dino\\Desktop\\jupyter scripts for second try\\images for human\\C12F24P471_image1.jpeg (33, 17.7)\n",
      "C:\\Users\\Dino\\Desktop\\jupyter scripts for second try\\images for human\\C12F24P471_image2.jpeg (35, 16.57)\n",
      "C:\\Users\\Dino\\Desktop\\jupyter scripts for second try\\images for human\\C12F24P471_image3.jpeg (41, 17.01)\n",
      "C:\\Users\\Dino\\Desktop\\jupyter scripts for second try\\images for human\\C12F24P486_image1.jpeg (113, 15.56)\n",
      "C:\\Users\\Dino\\Desktop\\jupyter scripts for second try\\images for human\\C12F24P486_image2.jpeg (115, 15.2)\n",
      "C:\\Users\\Dino\\Desktop\\jupyter scripts for second try\\images for human\\C12F24P486_image3.jpeg (105, 16.09)\n",
      "C:\\Users\\Dino\\Desktop\\jupyter scripts for second try\\images for human\\C12F26P441_image1.jpeg (169, 14.89)\n",
      "C:\\Users\\Dino\\Desktop\\jupyter scripts for second try\\images for human\\C12F26P441_image2.jpeg (154, 13.5)\n",
      "C:\\Users\\Dino\\Desktop\\jupyter scripts for second try\\images for human\\C12F26P441_image3.jpeg (166, 13.93)\n",
      "C:\\Users\\Dino\\Desktop\\jupyter scripts for second try\\images for human\\C13F20P454_image1.jpeg (182, 14.49)\n",
      "C:\\Users\\Dino\\Desktop\\jupyter scripts for second try\\images for human\\C13F20P454_image2.jpeg (190, 14.25)\n",
      "C:\\Users\\Dino\\Desktop\\jupyter scripts for second try\\images for human\\C13F20P454_image3.jpeg (184, 14.67)\n",
      "C:\\Users\\Dino\\Desktop\\jupyter scripts for second try\\images for human\\C13F24P416_image1.jpeg (202, 13.82)\n",
      "C:\\Users\\Dino\\Desktop\\jupyter scripts for second try\\images for human\\C13F24P416_image2.jpeg (190, 14.3)\n",
      "C:\\Users\\Dino\\Desktop\\jupyter scripts for second try\\images for human\\C13F24P416_image3.jpeg (199, 14.54)\n",
      "C:\\Users\\Dino\\Desktop\\jupyter scripts for second try\\images for human\\C13F26P440_image1.jpeg (161, 14.0)\n",
      "C:\\Users\\Dino\\Desktop\\jupyter scripts for second try\\images for human\\C13F26P440_image2.jpeg (166, 14.54)\n",
      "C:\\Users\\Dino\\Desktop\\jupyter scripts for second try\\images for human\\C13F26P440_image3.jpeg (154, 14.04)\n",
      "C:\\Users\\Dino\\Desktop\\jupyter scripts for second try\\images for human\\C14F24P448_image1.jpeg (154, 13.97)\n",
      "C:\\Users\\Dino\\Desktop\\jupyter scripts for second try\\images for human\\C14F24P448_image2.jpeg (160, 14.0)\n",
      "C:\\Users\\Dino\\Desktop\\jupyter scripts for second try\\images for human\\C14F24P448_image3.jpeg (161, 14.03)\n",
      "C:\\Users\\Dino\\Desktop\\jupyter scripts for second try\\images for human\\C14F26P490_image1.jpeg (215, 15.36)\n",
      "C:\\Users\\Dino\\Desktop\\jupyter scripts for second try\\images for human\\C14F26P490_image2.jpeg (198, 15.66)\n",
      "C:\\Users\\Dino\\Desktop\\jupyter scripts for second try\\images for human\\C14F26P490_image3.jpeg (213, 15.86)\n",
      "C:\\Users\\Dino\\Desktop\\jupyter scripts for second try\\images for human\\C8F20P416_image1.jpeg (83, 19.96)\n",
      "C:\\Users\\Dino\\Desktop\\jupyter scripts for second try\\images for human\\C8F20P416_image2.jpeg (35, 20.33)\n",
      "C:\\Users\\Dino\\Desktop\\jupyter scripts for second try\\images for human\\C8F20P416_image3.jpeg (45, 20.09)\n",
      "C:\\Users\\Dino\\Desktop\\jupyter scripts for second try\\images for human\\C8F24P442_image1.jpeg (49, 19.46)\n",
      "C:\\Users\\Dino\\Desktop\\jupyter scripts for second try\\images for human\\C8F24P442_image2.jpeg (71, 15.0)\n",
      "C:\\Users\\Dino\\Desktop\\jupyter scripts for second try\\images for human\\C8F24P442_image3.jpeg (53, 14.48)\n",
      "C:\\Users\\Dino\\Desktop\\jupyter scripts for second try\\images for human\\C9F20P456_image1.jpeg (153, 20.61)\n",
      "C:\\Users\\Dino\\Desktop\\jupyter scripts for second try\\images for human\\C9F20P456_image2.jpeg (109, 19.78)\n",
      "C:\\Users\\Dino\\Desktop\\jupyter scripts for second try\\images for human\\C9F20P456_image3.jpeg (92, 20.5)\n",
      "C:\\Users\\Dino\\Desktop\\jupyter scripts for second try\\images for human\\C9F24P452_image1.jpeg (156, 18.48)\n",
      "C:\\Users\\Dino\\Desktop\\jupyter scripts for second try\\images for human\\C9F24P452_image2.jpeg (157, 19.17)\n",
      "C:\\Users\\Dino\\Desktop\\jupyter scripts for second try\\images for human\\C9F24P452_image3.jpeg (122, 19.62)\n",
      "C:\\Users\\Dino\\Desktop\\jupyter scripts for second try\\images for human\\C9F26P402_image1.jpeg (88, 19.39)\n",
      "C:\\Users\\Dino\\Desktop\\jupyter scripts for second try\\images for human\\C9F26P402_image2.jpeg (86, 19.66)\n",
      "C:\\Users\\Dino\\Desktop\\jupyter scripts for second try\\images for human\\C9F26P402_image3.jpeg (67, 22.5)\n"
     ]
    }
   ],
   "source": [
    "listOfFiles = getListOfFiles(dirName)\n",
    "listOfFiles.sort()\n",
    "L = len(listOfFiles)\n",
    "\n",
    "for i in range(L):\n",
    "    ZZ = listOfFiles[i]\n",
    "    print(ZZ, procedure(ZZ))"
   ]
  },
  {
   "cell_type": "code",
   "execution_count": null,
   "metadata": {},
   "outputs": [],
   "source": []
  }
 ],
 "metadata": {
  "kernelspec": {
   "display_name": "Python 3",
   "language": "python",
   "name": "python3"
  },
  "language_info": {
   "codemirror_mode": {
    "name": "ipython",
    "version": 3
   },
   "file_extension": ".py",
   "mimetype": "text/x-python",
   "name": "python",
   "nbconvert_exporter": "python",
   "pygments_lexer": "ipython3",
   "version": "3.7.3"
  }
 },
 "nbformat": 4,
 "nbformat_minor": 2
}
