{
 "cells": [
  {
   "cell_type": "code",
   "execution_count": 1,
   "metadata": {},
   "outputs": [],
   "source": [
    "import numpy as np\n",
    "import time\n",
    "import os\n",
    "from numpy import genfromtxt\n",
    "import pandas as pd"
   ]
  },
  {
   "cell_type": "code",
   "execution_count": 2,
   "metadata": {},
   "outputs": [],
   "source": [
    "dirName = 'C:\\\\SteamCondChamber\\\\ALL the files for video M26C16V25T38P480\\\\csvS\\\\FIXED'"
   ]
  },
  {
   "cell_type": "code",
   "execution_count": 3,
   "metadata": {},
   "outputs": [],
   "source": [
    "def getListOfFiles(dirName):\n",
    "    # create a list of file and sub directories\n",
    "    # names in the given directory\n",
    "    listOfFile = os.listdir(dirName)\n",
    "    allFiles = list()\n",
    "    # Iterate over all the entries\n",
    "    for entry in listOfFile:\n",
    "        # Create full path\n",
    "        fullPath = os.path.join(dirName, entry)\n",
    "        # If entry is a directory then get the list of files in this directory\n",
    "        if os.path.isdir(fullPath):\n",
    "            allFiles = allFiles + getListOfFiles(fullPath)\n",
    "        else:\n",
    "            allFiles.append(fullPath)\n",
    "\n",
    "    return allFiles"
   ]
  },
  {
   "cell_type": "code",
   "execution_count": 4,
   "metadata": {},
   "outputs": [
    {
     "name": "stdout",
     "output_type": "stream",
     "text": [
      "C:\\SteamCondChamber\\ALL the files for video M26C16V25T38P480\\csvS\\FIXED\\Fixed-sized matrix from 0 frame.csv\n",
      "C:\\SteamCondChamber\\ALL the files for video M26C16V25T38P480\\csvS\\FIXED\\Fixed-sized matrix from 1 frame.csv\n",
      "---------------\n",
      "The one is 828.0 the other is 242.0\n",
      "the G Rate clean martix is: \n",
      "0\n",
      "the G rate is: \n",
      "0\n",
      "C:\\SteamCondChamber\\ALL the files for video M26C16V25T38P480\\csvS\\FIXED\\Fixed-sized matrix from 1 frame.csv\n",
      "C:\\SteamCondChamber\\ALL the files for video M26C16V25T38P480\\csvS\\FIXED\\Fixed-sized matrix from 2 frame.csv\n",
      "---------------\n",
      "The one is 506.0 the other is 487.0\n",
      "The one is 774.0 the other is 828.0\n",
      "The one is 730.0 the other is 538.0\n",
      "the G Rate clean martix is: \n",
      "1\n",
      "the G rate is: \n",
      "0.020994475138121547\n",
      "C:\\SteamCondChamber\\ALL the files for video M26C16V25T38P480\\csvS\\FIXED\\Fixed-sized matrix from 2 frame.csv\n",
      "C:\\SteamCondChamber\\ALL the files for video M26C16V25T38P480\\csvS\\FIXED\\Fixed-sized matrix from 3 frame.csv\n",
      "---------------\n",
      "the G Rate clean martix is: \n",
      "0\n",
      "the G rate is: \n",
      "0\n",
      "C:\\SteamCondChamber\\ALL the files for video M26C16V25T38P480\\csvS\\FIXED\\Fixed-sized matrix from 3 frame.csv\n",
      "C:\\SteamCondChamber\\ALL the files for video M26C16V25T38P480\\csvS\\FIXED\\Fixed-sized matrix from 4 frame.csv\n",
      "---------------\n",
      "the G Rate clean martix is: \n",
      "0\n",
      "the G rate is: \n",
      "0\n",
      "C:\\SteamCondChamber\\ALL the files for video M26C16V25T38P480\\csvS\\FIXED\\Fixed-sized matrix from 4 frame.csv\n",
      "C:\\SteamCondChamber\\ALL the files for video M26C16V25T38P480\\csvS\\FIXED\\Fixed-sized matrix from 5 frame.csv\n",
      "---------------\n",
      "The one is 240.0 the other is 30.0\n",
      "The one is 204.0 the other is 39.0\n",
      "The one is 142.0 the other is 80.0\n",
      "The one is 241.0 the other is 103.0\n",
      "The one is 482.0 the other is 180.0\n",
      "The one is 312.0 the other is 52.0\n",
      "The one is 65.0 the other is 920.0\n",
      "The one is 518.0 the other is 193.0\n",
      "The one is 518.0 the other is 161.0\n",
      "the G Rate clean martix is: \n",
      "2\n",
      "the G rate is: \n",
      "0.29787208288951295\n"
     ]
    },
    {
     "name": "stderr",
     "output_type": "stream",
     "text": [
      "C:\\Users\\Dino\\Anaconda3\\lib\\site-packages\\ipykernel_launcher.py:73: RuntimeWarning: divide by zero encountered in double_scalars\n"
     ]
    },
    {
     "name": "stdout",
     "output_type": "stream",
     "text": [
      "C:\\SteamCondChamber\\ALL the files for video M26C16V25T38P480\\csvS\\FIXED\\Fixed-sized matrix from 5 frame.csv\n",
      "C:\\SteamCondChamber\\ALL the files for video M26C16V25T38P480\\csvS\\FIXED\\Fixed-sized matrix from 6 frame.csv\n",
      "---------------\n",
      "The one is 101.0 the other is 137.0\n",
      "The one is 285.0 the other is 395.0\n",
      "The one is 421.0 the other is 439.0\n",
      "The one is 467.0 the other is 365.0\n",
      "The one is 387.0 the other is 142.0\n",
      "The one is 151.0 the other is 49.0\n",
      "The one is 127.0 the other is 195.0\n",
      "The one is 151.0 the other is 77.0\n",
      "The one is 136.0 the other is 241.0\n",
      "The one is 153.0 the other is 50.0\n",
      "The one is 283.0 the other is 137.0\n",
      "The one is 944.0 the other is 106.0\n",
      "The one is 91.0 the other is 73.0\n",
      "The one is 348.0 the other is 321.0\n",
      "The one is 299.0 the other is 44.0\n",
      "The one is 105.0 the other is 65.0\n",
      "The one is 366.0 the other is 101.0\n",
      "The one is 514.0 the other is 504.0\n",
      "The one is 640.0 the other is 518.0\n",
      "The one is 366.0 the other is 95.0\n",
      "The one is 156.0 the other is 110.0\n",
      "The one is 366.0 the other is 73.0\n",
      "the G Rate clean martix is: \n",
      "8\n",
      "the G rate is: \n",
      "0.6393325586120564\n",
      "C:\\SteamCondChamber\\ALL the files for video M26C16V25T38P480\\csvS\\FIXED\\Fixed-sized matrix from 6 frame.csv\n",
      "C:\\SteamCondChamber\\ALL the files for video M26C16V25T38P480\\csvS\\FIXED\\Fixed-sized matrix from 7 frame.csv\n",
      "---------------\n",
      "The one is 70.0 the other is 35.0\n",
      "The one is 236.0 the other is 157.0\n",
      "The one is 101.0 the other is 33.0\n",
      "The one is 355.0 the other is 285.0\n",
      "The one is 102.0 the other is 52.0\n",
      "The one is 711.0 the other is 467.0\n",
      "The one is 512.0 the other is 421.0\n",
      "The one is 705.0 the other is 642.0\n",
      "The one is 32.0 the other is 29.0\n",
      "The one is 144.0 the other is 94.0\n",
      "The one is 683.0 the other is 84.0\n",
      "The one is 245.0 the other is 153.0\n",
      "The one is 555.0 the other is 136.0\n",
      "The one is 142.0 the other is 224.0\n",
      "The one is 115.0 the other is 84.0\n",
      "The one is 115.0 the other is 91.0\n",
      "The one is 395.0 the other is 348.0\n",
      "The one is 550.0 the other is 514.0\n",
      "The one is 257.0 the other is 47.0\n",
      "The one is 70.0 the other is 295.0\n",
      "the G Rate clean martix is: \n",
      "9\n",
      "the G rate is: \n",
      "0.37828194800862325\n",
      "C:\\SteamCondChamber\\ALL the files for video M26C16V25T38P480\\csvS\\FIXED\\Fixed-sized matrix from 7 frame.csv\n",
      "C:\\SteamCondChamber\\ALL the files for video M26C16V25T38P480\\csvS\\FIXED\\Fixed-sized matrix from 8 frame.csv\n",
      "---------------\n",
      "The one is 129.0 the other is 101.0\n",
      "The one is 61.0 the other is 45.0\n",
      "The one is 188.0 the other is 355.0\n",
      "The one is 208.0 the other is 711.0\n",
      "The one is 412.0 the other is 705.0\n",
      "The one is 264.0 the other is 148.0\n",
      "The one is 372.0 the other is 105.0\n",
      "The one is 131.0 the other is 115.0\n",
      "The one is 553.0 the other is 395.0\n",
      "The one is 464.0 the other is 550.0\n",
      "the G Rate clean martix is: \n",
      "4\n",
      "the G rate is: \n",
      "0.49274862259320734\n",
      "------------------------------------\n",
      "------------------------------------\n"
     ]
    }
   ],
   "source": [
    "listOfFiles = getListOfFiles(dirName)\n",
    "listOfFiles.sort()\n",
    "L = (len(listOfFiles) - 1)\n",
    "MatrixA_container = np.empty( (L,3), dtype = object)\n",
    "the_real_MatrixA = np.empty((1,4), dtype=object)\n",
    "G_Rate_BOX = np.empty(((L),), dtype=object)\n",
    "\n",
    "\n",
    "#X centroid\tY centroid\tHorizontal Size\tVertical Size\tTotal number of droplets\tSingle Droplet Area\n",
    "\n",
    "for i in range(L):\n",
    "    # edw ipirxe problima esbisa tin prwti grammi me ta logia giati to mperdeue\n",
    "    M1 = genfromtxt(listOfFiles[i], delimiter=',', encoding= 'unicode_escape')\n",
    "    print(listOfFiles[i])\n",
    "    print(listOfFiles[i+1])\n",
    "    M1 = np.delete(M1, (0), axis=0)\n",
    "    #print(f\"the {i} matrix is\")\n",
    "    #print(M1)\n",
    "    M2 = genfromtxt(listOfFiles[i+1], delimiter=',', encoding= 'unicode_escape')\n",
    "    M2 = np.delete(M2, (0), axis=0)\n",
    "    #print(f\"the {i+1} matrix is\")\n",
    "    #print(M2)\n",
    "    print(\"---------------\")\n",
    "    \n",
    "    G_Rate_avg_list = []\n",
    "    def G_Rate_function(M1, M2):\n",
    "        M1_2col = np.empty((M1.shape[0], 2), dtype=float)\n",
    "        for i in range(M1.shape[0]):\n",
    "            M1_2col[i, 0] = M1[i, 0]\n",
    "            M1_2col[i, 1] = M1[i, 1]\n",
    "        M2_2col = np.empty((M2.shape[0], 2), dtype=float)\n",
    "        for i in range(M2.shape[0]):\n",
    "            M2_2col[i, 0] = M2[i, 0]\n",
    "            M2_2col[i, 1] = M2[i, 1]\n",
    "        # define the distance function:\n",
    "        def distance(x1, y1, x2, y2):\n",
    "            x_diff = (x1 - x2) ** 2\n",
    "            y_diff = (y1 - y2) ** 2\n",
    "            point_distance = (x_diff + y_diff) ** 0.5\n",
    "            return point_distance\n",
    "        #print(\"done measuring distances\")\n",
    "        distances_stored = np.empty((M1_2col.shape[0], M2_2col.shape[0]), dtype=object)\n",
    "        for i in range(M1_2col.shape[0]):\n",
    "            for j in range((M2_2col.shape[0])):\n",
    "                d = distance(M1_2col[i][0], M1_2col[i][1], M2_2col[j][0], M2_2col[j][1])\n",
    "                distances_stored[i][j] = round(d, 2)\n",
    "        #print(distances_stored)\n",
    "        mini = np.empty((M1_2col.shape[0], M2_2col.shape[0]), dtype=object)\n",
    "        for i in range(M1_2col.shape[0]):\n",
    "            for j in range((M2_2col.shape[0])):\n",
    "                if distances_stored[i, j] == np.amin(distances_stored[i]):\n",
    "                    mini[i, j] = distances_stored[i, j]\n",
    "                else:\n",
    "                    mini[i, j] = -1\n",
    "        \n",
    "        #print(\"the mini matrix is:\")\n",
    "        #print(mini)\n",
    "        G_Rate_matrix = np.empty((M1.shape[0], 1), dtype=object)\n",
    "        G_Rate_matrix_clean = []\n",
    "        for i in range(M1_2col.shape[0]):\n",
    "            for j in range((M2_2col.shape[0])):\n",
    "                if mini[i, j] == -1:\n",
    "                    pass\n",
    "                else:\n",
    "                    if mini[i, j] == 0:\n",
    "                        pass\n",
    "                        #print(i, \"nothing here\")\n",
    "                    elif mini[i, j] > 20:\n",
    "                        pass\n",
    "                        #print(i, \"we have but they are far\")\n",
    "                    else:\n",
    "                        print(f\"The one is {M2[j][5]} the other is {M1[i][5]}\")\n",
    "                        G_Rate_matrix[i] = ((M2[j][5] - M1[i][5]) / (M1[j][5]))\n",
    "                        if (G_Rate_matrix[i] < 0) or (G_Rate_matrix[i] == 0):\n",
    "                            pass\n",
    "                        else:\n",
    "                            if abs(M2[j][2] - M1[j][2]>5):\n",
    "                                pass\n",
    "                            else:\n",
    "                                G_Rate_matrix_clean.append(G_Rate_matrix[i])\n",
    "        G_Rate_matrix_clean_array = np.array(G_Rate_matrix_clean, dtype= object)\n",
    "        print(\"the G Rate clean martix is: \")\n",
    "        print(G_Rate_matrix_clean_array.size)\n",
    "        if G_Rate_matrix_clean_array.size == 0:\n",
    "            G_Rate_avg = 0\n",
    "        else:\n",
    "            G_Rate_avg = np.mean(G_Rate_matrix_clean_array)\n",
    "        \n",
    "        print(\"the G rate is: \")\n",
    "        print(G_Rate_avg)\n",
    "        return G_Rate_avg\n",
    "    G_Rate_BOX[i] = G_Rate_function(M1, M2)\n",
    "c1 = np.mean(G_Rate_BOX)\n",
    "print(\"------------------------------------\")\n",
    "\n",
    "print(\"------------------------------------\")"
   ]
  },
  {
   "cell_type": "markdown",
   "metadata": {},
   "source": [
    "Average number of droplets"
   ]
  },
  {
   "cell_type": "code",
   "execution_count": 5,
   "metadata": {},
   "outputs": [],
   "source": [
    "Total_Droplets_number  = 0\n",
    "for k in range(L+1):\n",
    "    M = genfromtxt(listOfFiles[k], delimiter=',', encoding='unicode_escape')\n",
    "    #print(Total_Droplets_number)\n",
    "    Total_Droplets_number = (Total_Droplets_number + M[1][4])\n",
    "c2 = Total_Droplets_number / (L+1)"
   ]
  },
  {
   "cell_type": "markdown",
   "metadata": {},
   "source": [
    "Average area of droplets"
   ]
  },
  {
   "cell_type": "code",
   "execution_count": 6,
   "metadata": {},
   "outputs": [
    {
     "name": "stdout",
     "output_type": "stream",
     "text": [
      "average area size of the droplets in pixels is: 51.25925925925927\n",
      "average area size of the droplets in mm2 is: 0.9124148148148149\n"
     ]
    }
   ],
   "source": [
    "Total_Area_total = 0\n",
    "Total_Area_csv = 0\n",
    "Total_Area = []\n",
    "for k in range(L+1):\n",
    "    Total_Area_total = (Total_Area_csv / (L+1)) + Total_Area_total\n",
    "    #print(\"big area\", Total_Area_total)\n",
    "    Total_Area_csv = 0\n",
    "    for k in range(L+1):\n",
    "        M = genfromtxt(listOfFiles[k], delimiter=',', encoding='unicode_escape')\n",
    "        Total_Area_csv = (Total_Area_csv + M[1][5])\n",
    "        #print(\"small area\", Total_Area_csv)\n",
    "        #print(\"--------------\")\n",
    "    \n",
    "c3_pixels = Total_Area_total / (L+1)\n",
    "print(\"average area size of the droplets in pixels is:\", c3_pixels)\n",
    "c3 = c3_pixels * 0.0178 #thats going from px to mm\n",
    "\n",
    "print(\"average area size of the droplets in mm2 is:\", c3)"
   ]
  },
  {
   "cell_type": "markdown",
   "metadata": {},
   "source": [
    "Average size of droplets"
   ]
  },
  {
   "cell_type": "code",
   "execution_count": 7,
   "metadata": {},
   "outputs": [
    {
     "name": "stdout",
     "output_type": "stream",
     "text": [
      "the average size of a droplet is in pixels 16.24691358024691\n",
      "the average size of a droplet is: 0.28919506172839504\n"
     ]
    }
   ],
   "source": [
    "Total_Size_total = 0\n",
    "Average_Size_csv = 0\n",
    "Total_Size = []\n",
    "for k in range(L+1):\n",
    "    Total_Size_total = (Average_Size_csv / (L+1)) + Total_Size_total\n",
    "    #print(\"average size from all the CSVs: \", Total_Size_total)\n",
    "    Average_Size_csv = 0\n",
    "    for k in range(L+1):\n",
    "        M = genfromtxt(listOfFiles[k], delimiter=',', encoding='unicode_escape')\n",
    "        Average_Size_csv = Average_Size_csv + ( (M[1][2] + M[1][3])/2 )\n",
    "        #print(\"average size for only one csv\", Average_Size_csv)\n",
    "        #print(\"--------------\")\n",
    "    \n",
    "c4_pixels = Total_Size_total / (L+1)\n",
    "print(\"the average size of a droplet is in pixels\", c4_pixels)\n",
    "c4 = c4_pixels * 0.0178 #thats going from px to mm\n",
    "\n",
    "print(\"the average size of a droplet is:\", c4)"
   ]
  },
  {
   "cell_type": "markdown",
   "metadata": {},
   "source": [
    "creating a CSV file"
   ]
  },
  {
   "cell_type": "code",
   "execution_count": 8,
   "metadata": {},
   "outputs": [
    {
     "name": "stdout",
     "output_type": "stream",
     "text": [
      "The real matrix A is:\n",
      "[[0.229 24.11 0.91 0.29]]\n",
      "-----------------------\n"
     ]
    }
   ],
   "source": [
    "the_real_MatrixA[0][0] = round(c1, 3)\n",
    "the_real_MatrixA[0][1] = round(c2, 2)\n",
    "the_real_MatrixA[0][2] = round(c3, 2)\n",
    "the_real_MatrixA[0][3] = round(c4, 2)\n",
    "print('The real matrix A is:')\n",
    "print(the_real_MatrixA)\n",
    "print('-----------------------')\n",
    "my_df_1 = pd.DataFrame( the_real_MatrixA  )\n",
    "my_df_1.columns = ['Growth rate', 'Average Nu of droplets', 'Average droplet area', \"Average diameter\"]\n",
    "my_df_1.to_csv(f'The real Matrix A.csv', index=False)  # save as csv"
   ]
  },
  {
   "cell_type": "code",
   "execution_count": null,
   "metadata": {},
   "outputs": [],
   "source": []
  }
 ],
 "metadata": {
  "kernelspec": {
   "display_name": "Python 3",
   "language": "python",
   "name": "python3"
  },
  "language_info": {
   "codemirror_mode": {
    "name": "ipython",
    "version": 3
   },
   "file_extension": ".py",
   "mimetype": "text/x-python",
   "name": "python",
   "nbconvert_exporter": "python",
   "pygments_lexer": "ipython3",
   "version": "3.7.3"
  }
 },
 "nbformat": 4,
 "nbformat_minor": 2
}
