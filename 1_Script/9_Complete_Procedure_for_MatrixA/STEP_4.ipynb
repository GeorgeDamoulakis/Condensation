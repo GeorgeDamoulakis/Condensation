{
 "cells": [
  {
   "cell_type": "markdown",
   "metadata": {},
   "source": [
    "this fixes the size of the CSV files\n"
   ]
  },
  {
   "cell_type": "code",
   "execution_count": 1,
   "metadata": {},
   "outputs": [],
   "source": [
    "import numpy as np\n",
    "import time\n",
    "import os\n",
    "from numpy import genfromtxt\n",
    "import pandas as pd"
   ]
  },
  {
   "cell_type": "code",
   "execution_count": 2,
   "metadata": {},
   "outputs": [],
   "source": [
    "dirName = ('C:\\\\SteamCondChamber\\\\ALL the files for video M26C16V25T38P480\\\\csvL')\n",
    "FixedFolder = ('C:\\\\SteamCondChamber\\\\ALL the files for video M26C16V25T38P480\\\\csvL\\\\FIXED')"
   ]
  },
  {
   "cell_type": "code",
   "execution_count": 3,
   "metadata": {},
   "outputs": [],
   "source": [
    "def getListOfFiles(dirName):\n",
    "    listOfFile = os.listdir(dirName)\n",
    "    allFiles = list()\n",
    "    for entry in listOfFile:\n",
    "        fullPath = os.path.join(dirName, entry)\n",
    "        if os.path.isdir(fullPath):\n",
    "            allFiles = allFiles + getListOfFiles(fullPath)\n",
    "        else:\n",
    "            allFiles.append(fullPath)\n",
    "    return allFiles"
   ]
  },
  {
   "cell_type": "code",
   "execution_count": 4,
   "metadata": {},
   "outputs": [
    {
     "name": "stdout",
     "output_type": "stream",
     "text": [
      "The 0 csv is fixed.\n",
      "The 1 csv is fixed.\n",
      "The 2 csv is fixed.\n",
      "The 3 csv is fixed.\n",
      "The 4 csv is fixed.\n",
      "The 5 csv is fixed.\n",
      "The 6 csv is fixed.\n",
      "The 7 csv is fixed.\n",
      "The 8 csv is fixed.\n",
      "Done!\n"
     ]
    }
   ],
   "source": [
    "listOfFiles = getListOfFiles(dirName)\n",
    "listOfFiles.sort()\n",
    "L = (len(listOfFiles) - 1)\n",
    "max = 0\n",
    "dummy = np.array(([0, 0, 0, 0, 0, 0]), float)\n",
    "\n",
    "#this first part finds out from all the CSV files which one has the biggest number of lines\n",
    "# and finds the max\n",
    "container = np.empty(((L + 1), 1), dtype=object)\n",
    "for i in range(L + 1):\n",
    "    M = genfromtxt(listOfFiles[i], delimiter=',', encoding='unicode_escape')\n",
    "    M = np.delete(M, (0), axis=0)\n",
    "    container[i] = M.shape[0]\n",
    "    #print(container[i])\n",
    "    #print(\"-----\")\n",
    "max = np.max(container)\n",
    "#print(max)\n",
    "\n",
    "#now we know the max we will plant dummy lines to all the others CSV\n",
    "for i in range(L + 1):\n",
    "    M = genfromtxt(listOfFiles[i], delimiter=',', encoding='unicode_escape')\n",
    "    M = np.vstack((M, dummy))\n",
    "    M = np.delete(M, (0), axis=0)\n",
    "    while M.shape[0] < max:\n",
    "        M = np.vstack((M, dummy))\n",
    "    my_df_1 = pd.DataFrame(M)\n",
    "    my_df_1.columns = ['0', '1', '2', '3', '4', '5']\n",
    "    filename = f'{FixedFolder}/Fixed-sized matrix from {i} frame.csv'\n",
    "    my_df_1.to_csv(filename, index=False)  # save as csv\n",
    "    print(f'The {i} csv is fixed.')\n",
    "          \n",
    "print(\"Done!\")"
   ]
  },
  {
   "cell_type": "code",
   "execution_count": null,
   "metadata": {},
   "outputs": [],
   "source": []
  }
 ],
 "metadata": {
  "kernelspec": {
   "display_name": "Python 3",
   "language": "python",
   "name": "python3"
  },
  "language_info": {
   "codemirror_mode": {
    "name": "ipython",
    "version": 3
   },
   "file_extension": ".py",
   "mimetype": "text/x-python",
   "name": "python",
   "nbconvert_exporter": "python",
   "pygments_lexer": "ipython3",
   "version": "3.7.3"
  }
 },
 "nbformat": 4,
 "nbformat_minor": 2
}
