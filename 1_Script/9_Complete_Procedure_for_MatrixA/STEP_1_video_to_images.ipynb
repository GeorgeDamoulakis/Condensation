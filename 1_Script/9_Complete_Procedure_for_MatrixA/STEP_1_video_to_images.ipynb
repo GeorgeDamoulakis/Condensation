{
 "cells": [
  {
   "cell_type": "code",
   "execution_count": 8,
   "metadata": {},
   "outputs": [],
   "source": [
    "import cv2 as cv"
   ]
  },
  {
   "cell_type": "code",
   "execution_count": 9,
   "metadata": {},
   "outputs": [],
   "source": [
    "videoFile = (\"D:\\\\1. Steam_Cond_Chamber\\\\12-15-2020\\\\M24C12V25T37P450.cine\")\n",
    "imagesFolder = (\"C:\\\\Users\\\\grdmg\\\\Desktop\\\\StCC_Scripts\\\\M24C12V25T37P450\")"
   ]
  },
  {
   "cell_type": "code",
   "execution_count": 10,
   "metadata": {},
   "outputs": [
    {
     "name": "stdout",
     "output_type": "stream",
     "text": [
      "the frame rate is 100.0\n",
      "Image 1 printed\n",
      "Image 2 printed\n",
      "Image 3 printed\n",
      "Image 4 printed\n",
      "Image 5 printed\n",
      "Done!\n"
     ]
    }
   ],
   "source": [
    "cap = cv.VideoCapture(videoFile)\n",
    "frameRate = cap.get(5) #frame rate\n",
    "print(\"the frame rate is\", frameRate)\n",
    "k = 0\n",
    "while(cap.isOpened()):\n",
    "    frameId = cap.get(1) #current frame number\n",
    "    ret, frame = cap.read()\n",
    "    #print(frameId)\n",
    "    if (ret != True):\n",
    "        break\n",
    "    if (frameId % 4000 == 0):\n",
    "        k = k + 1\n",
    "        filename = imagesFolder + \"/image_\" +  str(int(frameId)) + \".tif\"\n",
    "        cv.imwrite(filename, frame)\n",
    "        print(f\"Image {k} printed\")\n",
    "cap.release()\n",
    "print(\"Done!\")"
   ]
  },
  {
   "cell_type": "code",
   "execution_count": null,
   "metadata": {},
   "outputs": [],
   "source": []
  }
 ],
 "metadata": {
  "kernelspec": {
   "display_name": "Python 3",
   "language": "python",
   "name": "python3"
  },
  "language_info": {
   "codemirror_mode": {
    "name": "ipython",
    "version": 3
   },
   "file_extension": ".py",
   "mimetype": "text/x-python",
   "name": "python",
   "nbconvert_exporter": "python",
   "pygments_lexer": "ipython3",
   "version": "3.8.3"
  }
 },
 "nbformat": 4,
 "nbformat_minor": 4
}
